{
 "cells": [
  {
   "cell_type": "code",
   "execution_count": 1,
   "metadata": {},
   "outputs": [],
   "source": [
    "import torch\n",
    "from torch import nn\n",
    "import torch.nn.functional as F\n",
    "\n",
    "from src.model import TimesFM"
   ]
  },
  {
   "cell_type": "code",
   "execution_count": 2,
   "metadata": {},
   "outputs": [],
   "source": [
    "torch_model = TimesFM(context_len=64, horizon_len=24)"
   ]
  },
  {
   "cell_type": "code",
   "execution_count": 3,
   "metadata": {},
   "outputs": [
    {
     "data": {
      "text/plain": [
       "<All keys matched successfully>"
      ]
     },
     "execution_count": 3,
     "metadata": {},
     "output_type": "execute_result"
    }
   ],
   "source": [
    "m = torch.load(\"./dev/timesfm_pytorch.pth\")\n",
    "torch_model.load_state_dict(m)"
   ]
  },
  {
   "cell_type": "code",
   "execution_count": 4,
   "metadata": {},
   "outputs": [],
   "source": [
    "from src.dataset import InferDataset\n",
    "import pandas as pd"
   ]
  },
  {
   "cell_type": "code",
   "execution_count": 5,
   "metadata": {},
   "outputs": [],
   "source": [
    "data = pd.read_csv(\"./data/ETTm1.csv\")\n",
    "\n",
    "data[\"ds\"] = pd.to_datetime(data[\"date\"])\n",
    "data[\"unique_id\"] = \"AAA\"\n",
    "\n",
    "# delete the last 24 rows to make infer data\n",
    "inferdata = data.iloc[:64]\n",
    "\n",
    "dataset = InferDataset.from_dataframe(\n",
    "    data=inferdata,\n",
    "    freq=\"MIN\",\n",
    "    context_len=64,\n",
    "    horizon_len=24,\n",
    "    group_id=\"unique_id\",\n",
    "    target=\"OT\",\n",
    "    time_idx=\"ds\",\n",
    ")"
   ]
  },
  {
   "cell_type": "code",
   "execution_count": 6,
   "metadata": {},
   "outputs": [],
   "source": [
    "x = dataset[0]['x'].unsqueeze(0)\n",
    "paddings = dataset[0]['paddings'].unsqueeze(0)\n",
    "freqs = dataset[0]['freq'].unsqueeze(0)"
   ]
  },
  {
   "cell_type": "code",
   "execution_count": 7,
   "metadata": {},
   "outputs": [
    {
     "data": {
      "text/plain": [
       "tensor([[0]], dtype=torch.int32)"
      ]
     },
     "execution_count": 7,
     "metadata": {},
     "output_type": "execute_result"
    }
   ],
   "source": [
    "freqs"
   ]
  },
  {
   "cell_type": "code",
   "execution_count": 8,
   "metadata": {},
   "outputs": [],
   "source": [
    "fnal_out, full_out = torch_model.predict(x=x,paddings=paddings,freq=freqs)"
   ]
  },
  {
   "cell_type": "code",
   "execution_count": 9,
   "metadata": {},
   "outputs": [
    {
     "data": {
      "text/plain": [
       "tensor([[25.2414, 22.5359, 14.9787,  2.5792, 20.4304,  6.6938, 15.4990, 38.1884,\n",
       "         33.0866, 25.9467, 21.7724, 19.4026, 25.6673, 29.9183, 35.6279, 27.6130,\n",
       "         18.5815, 26.9171, 29.2396,  1.5767, 29.0011, 20.4224, 33.6068, 23.6053]])"
      ]
     },
     "execution_count": 9,
     "metadata": {},
     "output_type": "execute_result"
    }
   ],
   "source": [
    "fnal_out"
   ]
  },
  {
   "cell_type": "code",
   "execution_count": 11,
   "metadata": {},
   "outputs": [],
   "source": [
    "target = data.iloc[64:(64+24)][\"OT\"].values\n",
    "pred = fnal_out.squeeze().detach().numpy()"
   ]
  }
 ],
 "metadata": {
  "kernelspec": {
   "display_name": "timesfm",
   "language": "python",
   "name": "python3"
  },
  "language_info": {
   "codemirror_mode": {
    "name": "ipython",
    "version": 3
   },
   "file_extension": ".py",
   "mimetype": "text/x-python",
   "name": "python",
   "nbconvert_exporter": "python",
   "pygments_lexer": "ipython3",
   "version": "3.10.14"
  }
 },
 "nbformat": 4,
 "nbformat_minor": 2
}
